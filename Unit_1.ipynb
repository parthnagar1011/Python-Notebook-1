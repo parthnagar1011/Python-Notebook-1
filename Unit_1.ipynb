{
  "nbformat": 4,
  "nbformat_minor": 0,
  "metadata": {
    "colab": {
      "provenance": [],
      "authorship_tag": "ABX9TyOLvUIgt6qmGX4IG1OoCsIF"
    },
    "kernelspec": {
      "name": "python3",
      "display_name": "Python 3"
    },
    "language_info": {
      "name": "python"
    }
  },
  "cells": [
    {
      "cell_type": "markdown",
      "source": [
        "This unit include Introduction of Python and\n",
        "Topics-\n",
        "\n",
        "*   Variable\n",
        "*   Operators\n",
        "*   Datatypes\n",
        "*   Strings\n",
        "\n"
      ],
      "metadata": {
        "id": "C92yXNUotxWo"
      }
    },
    {
      "cell_type": "markdown",
      "source": [
        "# Introduction\n",
        "\n",
        "Just like any other language to communicate with each other, we use python to communicate with computer.\n",
        "It was created by Guido Van Rossum in 1991.\n",
        "It is used for various purpose like -\n",
        "\n",
        "1.   Web Devlopment\n",
        "2.  Software Devlopment\n",
        "\n",
        "\n",
        "\n",
        "\n",
        "\n",
        "\n"
      ],
      "metadata": {
        "id": "mc9dxTV8uUOb"
      }
    },
    {
      "cell_type": "code",
      "source": [
        "# Writing our first program.\n",
        "# We use print() keyword to print the objects.\n",
        "\n",
        "print(\"Hello World!\")\n",
        "print('Hello World!')\n",
        "\n",
        "# We can use both double and single quote to print."
      ],
      "metadata": {
        "colab": {
          "base_uri": "https://localhost:8080/"
        },
        "id": "uyDxdmZDuRfO",
        "outputId": "4d4344d1-f893-4264-9933-4aed697f0758"
      },
      "execution_count": null,
      "outputs": [
        {
          "output_type": "stream",
          "name": "stdout",
          "text": [
            "Hello World!\n",
            "Hello World!\n"
          ]
        }
      ]
    },
    {
      "cell_type": "code",
      "source": [
        "# Taking input in python using input() keyword\n",
        "\n",
        "name = input(\"Tell me your name : \")\n",
        "print(name)"
      ],
      "metadata": {
        "colab": {
          "base_uri": "https://localhost:8080/"
        },
        "id": "83UvRJFw2tcs",
        "outputId": "10047f7e-19b4-4b50-f80f-6e338566434c"
      },
      "execution_count": null,
      "outputs": [
        {
          "output_type": "stream",
          "name": "stdout",
          "text": [
            "Tell me your name : Jon\n",
            "Jon\n"
          ]
        }
      ]
    },
    {
      "cell_type": "markdown",
      "source": [
        "# Comments\n",
        "\n",
        "Comments are used to write something which we do not want to run or execute.\n",
        "\n",
        "\n",
        "1.  Single line == #\n",
        "2.  Multi-line == ''' '''\n"
      ],
      "metadata": {
        "id": "WewsYP-BvtbO"
      }
    },
    {
      "cell_type": "code",
      "source": [
        "var = 10\n",
        "# Here print is variable. This is a comment."
      ],
      "metadata": {
        "id": "qrb-2CXMvgEj"
      },
      "execution_count": null,
      "outputs": []
    },
    {
      "cell_type": "markdown",
      "source": [
        "# Datatype\n",
        "\n",
        "* Numeric Types:\tint, float, complex\n",
        "* Sequence Types:\tlist, tuple, range\n",
        "* Mapping Type:\tdict\n",
        "* Set Types:\tset, frozenset\n",
        "* Boolean Type:\tbool\n",
        "* Binary Types:\tbytes, bytearray, memoryview\n",
        "* None Type:\tNoneType\n",
        "\n"
      ],
      "metadata": {
        "id": "u1dsF3iEwjoU"
      }
    },
    {
      "cell_type": "markdown",
      "source": [
        "# Variables\n",
        "\n",
        "Variables are containers for storing data values.\n",
        "\n",
        "**Rules**\n",
        "\n",
        "\n",
        "*   Variable name contain letter or underscore(_).\n",
        "*  It Cannot start with number and no whitescape is allowed.\n",
        "*  Case-senistive.\n",
        "*  Variable should not be any python keyword.\n",
        "EX- print, string etc.\n",
        "\n",
        "\n",
        "We can define varibale in following cases -\n",
        "\n",
        "\n",
        "1.  Camel case - Eachword, except first word start with capital letter.\n",
        "2.  Pascal case - Eachword start with capital letter.\n",
        "3.  Snake case - Eachword is seprated with underscore.\n",
        "\n"
      ],
      "metadata": {
        "id": "AGNsoH5XxYtY"
      }
    },
    {
      "cell_type": "code",
      "source": [
        "# Creating a variable\n",
        "var = 10\n",
        "# This is int variable\n",
        "\n",
        "str1 = \"Hello\"\n",
        "# This is string variable\n",
        "\n",
        "print(var)\n",
        "print(str1)"
      ],
      "metadata": {
        "colab": {
          "base_uri": "https://localhost:8080/"
        },
        "id": "uOGR4JSbxId-",
        "outputId": "4e3db68a-f1c4-4c35-df40-51f23eaaa9bf"
      },
      "execution_count": null,
      "outputs": [
        {
          "output_type": "stream",
          "name": "stdout",
          "text": [
            "10\n",
            "Hello\n"
          ]
        }
      ]
    },
    {
      "cell_type": "code",
      "source": [
        "# Type function - Using this function we can know the datatype of variables.\n",
        "\n",
        "print(type(var))\n",
        "print(type(str1))"
      ],
      "metadata": {
        "colab": {
          "base_uri": "https://localhost:8080/"
        },
        "id": "MheZsNRiy1Yh",
        "outputId": "6ca7d351-961d-4669-f95e-db1ccfaebd97"
      },
      "execution_count": null,
      "outputs": [
        {
          "output_type": "stream",
          "name": "stdout",
          "text": [
            "<class 'int'>\n",
            "<class 'str'>\n"
          ]
        }
      ]
    },
    {
      "cell_type": "markdown",
      "source": [
        "# Operators\n",
        "Operators are used to perform operations on variables and values.\n",
        "Types of operators -\n",
        "\n",
        "* Arithmetic operators (like +, -, *, /) are for doing math.\n",
        "* Assignment operators (like =, +=, -=) are for assigning values.\n",
        "* Comparison operators (like ==, !=, >, <) compare values.\n",
        "* Logical operators ( and, or, not) combine conditions.\n",
        "* Identity operators (is, is not) check if objects are the same.\n",
        "* Membership operators (in, not in) check if something is in a sequence.\n",
        "* Bitwise operators (like &, |, ^) work on bits."
      ],
      "metadata": {
        "id": "_SQIVw9X9qW4"
      }
    },
    {
      "cell_type": "code",
      "source": [
        "# Arithmetic Operators\n",
        "x = 10\n",
        "y = 5\n",
        "\n",
        "print(x + y)\n",
        "print(x - y)\n",
        "print(x * y)\n",
        "print(x / y)"
      ],
      "metadata": {
        "colab": {
          "base_uri": "https://localhost:8080/"
        },
        "id": "49CJI5YT-xK4",
        "outputId": "879a9b10-d72e-4ee7-decd-24be6a696cfc"
      },
      "execution_count": null,
      "outputs": [
        {
          "output_type": "stream",
          "name": "stdout",
          "text": [
            "15\n",
            "5\n",
            "50\n",
            "2.0\n"
          ]
        }
      ]
    },
    {
      "cell_type": "code",
      "source": [
        "# Assignment Operators\n",
        "a = 10\n",
        "b = 15\n",
        "a += 5\n",
        "b -= 3\n",
        "print(a)\n",
        "print(b)"
      ],
      "metadata": {
        "colab": {
          "base_uri": "https://localhost:8080/"
        },
        "id": "aFETaHBp_CkR",
        "outputId": "ff993c39-4fad-4bb3-e314-f3d977b8956c"
      },
      "execution_count": null,
      "outputs": [
        {
          "output_type": "stream",
          "name": "stdout",
          "text": [
            "15\n",
            "12\n"
          ]
        }
      ]
    },
    {
      "cell_type": "code",
      "source": [
        "# Comparison Operators\n",
        "print(a == b)\n",
        "print(a > b)"
      ],
      "metadata": {
        "colab": {
          "base_uri": "https://localhost:8080/"
        },
        "id": "DLlzEyUJBF83",
        "outputId": "0209b254-9d46-40c0-d8a9-82b6c10f607b"
      },
      "execution_count": null,
      "outputs": [
        {
          "output_type": "stream",
          "name": "stdout",
          "text": [
            "False\n",
            "True\n"
          ]
        }
      ]
    },
    {
      "cell_type": "code",
      "source": [
        "# Logical Operators\n",
        "is_sunny = True\n",
        "is_warm = False\n",
        "print(is_sunny and is_warm)\n",
        "print(is_sunny or is_warm)"
      ],
      "metadata": {
        "colab": {
          "base_uri": "https://localhost:8080/"
        },
        "id": "GEpNqE5zBMck",
        "outputId": "c33ded29-fbbd-42af-f881-1a265fdbe5d9"
      },
      "execution_count": null,
      "outputs": [
        {
          "output_type": "stream",
          "name": "stdout",
          "text": [
            "False\n",
            "True\n"
          ]
        }
      ]
    },
    {
      "cell_type": "markdown",
      "source": [
        "### Boolenas\n",
        " In Python, booleans represent truth values. They can be either True or False. They're fundamental for making decisions and controlling the flow of your code.\n",
        " Booleans are used with logical operators like and or and not to create conditions."
      ],
      "metadata": {
        "id": "Uiarmt-rBcCi"
      }
    },
    {
      "cell_type": "code",
      "source": [
        "\n",
        "raining = True\n",
        "sunny = False\n",
        "\n",
        "if raining and not sunny:\n",
        "    print(\"Take an umbrella!\")\n",
        "elif raining or sunny:\n",
        "    print(\"The weather is interesting today.\")\n",
        "else:\n",
        "    print(\"Enjoy the day!\")"
      ],
      "metadata": {
        "colab": {
          "base_uri": "https://localhost:8080/"
        },
        "id": "Yo792wzXB76S",
        "outputId": "7706cc32-2970-44a0-a2df-a1209331a364"
      },
      "execution_count": null,
      "outputs": [
        {
          "output_type": "stream",
          "name": "stdout",
          "text": [
            "Take an umbrella!\n"
          ]
        }
      ]
    },
    {
      "cell_type": "markdown",
      "source": [
        "# String\n",
        "\n",
        "Anything inside quote is considerd as string in python and we use both quotes single and double.\n",
        "Ex - \"This is also a string.\"\n",
        "     'This is also a string.'\n",
        "\n",
        "Another type of string is formated string -\n",
        "You can use f-strings to format strings in Python. They are denoted by placing an 'f' before the opening quotation mark of a string."
      ],
      "metadata": {
        "id": "Oy04DNVn0yyb"
      }
    },
    {
      "cell_type": "code",
      "source": [
        "my_string = \"Hello world!\"\n",
        "print(my_string)"
      ],
      "metadata": {
        "colab": {
          "base_uri": "https://localhost:8080/"
        },
        "id": "QibHGigazEOH",
        "outputId": "73d467bd-86cd-4d2b-b5d4-c8615c2e014f"
      },
      "execution_count": null,
      "outputs": [
        {
          "output_type": "stream",
          "name": "stdout",
          "text": [
            "Hello world!\n"
          ]
        }
      ]
    },
    {
      "cell_type": "code",
      "source": [
        "# Multiple values in string\n",
        "\n",
        "x, y, z = \"Orange\", \"Banana\", \"Cherry\"\n",
        "print(x)\n",
        "print(y)\n",
        "print(z)\n",
        "\n",
        "# OR\n",
        "x = y = z = \"Orange\"\n",
        "print(x)\n",
        "print(y)\n",
        "print(z)"
      ],
      "metadata": {
        "colab": {
          "base_uri": "https://localhost:8080/"
        },
        "id": "XNdBH2be1olS",
        "outputId": "709354de-acbb-4953-e599-3d8049ff26b9"
      },
      "execution_count": null,
      "outputs": [
        {
          "output_type": "stream",
          "name": "stdout",
          "text": [
            "Orange\n",
            "Banana\n",
            "Cherry\n",
            "Orange\n",
            "Orange\n",
            "Orange\n"
          ]
        }
      ]
    },
    {
      "cell_type": "code",
      "source": [
        "# Concatenation of string\n",
        "\n",
        "str1 = \"Hello\"\n",
        "str2 = \"World\"\n",
        "print(str1 + str2)\n",
        "\n",
        "# Using f-string\n",
        "print(f\"{str1} {str2}\")"
      ],
      "metadata": {
        "colab": {
          "base_uri": "https://localhost:8080/"
        },
        "id": "VAAuguu32JJf",
        "outputId": "13d4a390-386d-427f-8f55-76735908c632"
      },
      "execution_count": null,
      "outputs": [
        {
          "output_type": "stream",
          "name": "stdout",
          "text": [
            "HelloWorld\n",
            "Hello World\n"
          ]
        }
      ]
    },
    {
      "cell_type": "markdown",
      "source": [
        "### Modify string to -\n",
        "\n",
        "\n",
        "\n",
        "*  Uppercase - upper()\n",
        "*  Lowercase - lower()\n",
        "*  Remove whitespace - strip() It will remove whitespace from beginning and end."
      ],
      "metadata": {
        "id": "KvEiM8EF3EDK"
      }
    },
    {
      "cell_type": "code",
      "source": [
        "# Consider a string\n",
        "\n",
        "string1 = \" Good Morning\"\n",
        "\n",
        "print(string1.upper())\n",
        "print(string1.lower())\n",
        "print(string1.strip())"
      ],
      "metadata": {
        "colab": {
          "base_uri": "https://localhost:8080/"
        },
        "id": "aDamG4Yn7CtI",
        "outputId": "0435722f-39c7-4334-ec72-3fabbee12db0"
      },
      "execution_count": null,
      "outputs": [
        {
          "output_type": "stream",
          "name": "stdout",
          "text": [
            " GOOD MORNING\n",
            " good morning\n",
            "Good Morning\n"
          ]
        }
      ]
    },
    {
      "cell_type": "markdown",
      "source": [
        "### String function\n",
        "\n",
        "\n",
        "\n",
        "*   len() - Returns length of string.\n",
        "*   stringendwith() - Tell wether string end with given word.\n",
        "Gives answer in True or False.\n",
        "*   count() - Tells number of occurances of character.\n",
        "*   Find() - It finds word and gives index of first occurance of given string."
      ],
      "metadata": {
        "id": "vd38IuYl7rGw"
      }
    },
    {
      "cell_type": "code",
      "source": [
        "string2 = \"I Love Python\"\n",
        "\n",
        "print(len(string2))\n",
        "print(string2.endswith(\"Python\"))\n",
        "print(string2.count(\"o\"))\n",
        "print(string2.find(\"Love\"))"
      ],
      "metadata": {
        "colab": {
          "base_uri": "https://localhost:8080/"
        },
        "id": "es6MTE8i8_3M",
        "outputId": "60d0d24b-adc5-4686-ba8d-2efa2312a895"
      },
      "execution_count": null,
      "outputs": [
        {
          "output_type": "stream",
          "name": "stdout",
          "text": [
            "13\n",
            "True\n",
            "2\n",
            "2\n"
          ]
        }
      ]
    },
    {
      "cell_type": "markdown",
      "source": [
        "## Indexing\n",
        "Indexing allows you to access a specific element in a sequence.\n",
        "\n",
        "Positive Indexing: Starts from 0 for the first element to n-1 for the last element.\n",
        "Negative Indexing: Starts from -1 for the last element to -n for the first element.\n",
        "\n",
        "## Slicing\n",
        "Slicing allows you to access a range of elements in a sequence."
      ],
      "metadata": {
        "id": "vIj4GaA9CPRj"
      }
    },
    {
      "cell_type": "code",
      "source": [
        "# Positive Indexing\n",
        "my_list = [10, 20, 30, 40, 50]\n",
        "print(my_list[0])\n",
        "print(my_list[3])"
      ],
      "metadata": {
        "colab": {
          "base_uri": "https://localhost:8080/"
        },
        "id": "HHbP_wy_9UIN",
        "outputId": "0a17f3c4-6259-4a7e-b676-55ab945e41e3"
      },
      "execution_count": null,
      "outputs": [
        {
          "output_type": "stream",
          "name": "stdout",
          "text": [
            "10\n",
            "40\n"
          ]
        }
      ]
    },
    {
      "cell_type": "code",
      "source": [
        "# Negative Indexing\n",
        "print(my_list[-1])\n",
        "print(my_list[-3])"
      ],
      "metadata": {
        "colab": {
          "base_uri": "https://localhost:8080/"
        },
        "id": "CmaHe5tNDH92",
        "outputId": "e6c7ae2e-569b-48bc-ca45-c2ca43b92230"
      },
      "execution_count": null,
      "outputs": [
        {
          "output_type": "stream",
          "name": "stdout",
          "text": [
            "50\n",
            "30\n"
          ]
        }
      ]
    },
    {
      "cell_type": "code",
      "source": [
        "# Slicing\n",
        "print(my_list[1:4])\n",
        "print(my_list[:3])\n",
        "print(my_list[2:])"
      ],
      "metadata": {
        "colab": {
          "base_uri": "https://localhost:8080/"
        },
        "id": "X_-N2H7bDNj7",
        "outputId": "ae03f0d4-e95b-4ee9-aec1-c343fe4b71f5"
      },
      "execution_count": null,
      "outputs": [
        {
          "output_type": "stream",
          "name": "stdout",
          "text": [
            "[20, 30, 40]\n",
            "[10, 20, 30]\n",
            "[30, 40, 50]\n"
          ]
        }
      ]
    }
  ]
}