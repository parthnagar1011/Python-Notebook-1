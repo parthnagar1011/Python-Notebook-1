{
  "nbformat": 4,
  "nbformat_minor": 0,
  "metadata": {
    "colab": {
      "provenance": [],
      "authorship_tag": "ABX9TyOH6qGsdTPoLJWryNUQ36Ha",
      "include_colab_link": true
    },
    "kernelspec": {
      "name": "python3",
      "display_name": "Python 3"
    },
    "language_info": {
      "name": "python"
    }
  },
  "cells": [
    {
      "cell_type": "markdown",
      "metadata": {
        "id": "view-in-github",
        "colab_type": "text"
      },
      "source": [
        "<a href=\"https://colab.research.google.com/github/parthnagar1011/Python-Notebook-1/blob/main/Unit_2.ipynb\" target=\"_parent\"><img src=\"https://colab.research.google.com/assets/colab-badge.svg\" alt=\"Open In Colab\"/></a>"
      ]
    },
    {
      "cell_type": "markdown",
      "source": [
        "This unit include topics -\n",
        "\n",
        "\n",
        "*   Conditional Statements\n",
        "*   Loops\n",
        "*   Functions\n",
        "*   Recursion\n",
        "*   Lambda Function\n",
        "\n",
        "\n"
      ],
      "metadata": {
        "id": "pMSJ4b2SV7hm"
      }
    },
    {
      "cell_type": "markdown",
      "source": [
        "## Conditional Statement\n",
        "\n",
        "1.   If-Condition - It execute the block inside if statement if expression is true and if false then it will ignore and return to code outside if statement.\n",
        "\n",
        "2.   Elif - The elif keyword is Python's way of saying - if the previous conditions were not true, then try this condition.\n",
        "\n",
        "3.   Else-The else keyword catches anything which isn't caught by the preceding conditions.\n",
        "\n",
        "4.   Nested - Using multiple if-else statement inside if block.\n",
        "\n"
      ],
      "metadata": {
        "id": "y44OSu5IXIyr"
      }
    },
    {
      "cell_type": "code",
      "execution_count": null,
      "metadata": {
        "colab": {
          "base_uri": "https://localhost:8080/"
        },
        "id": "o3jgqO9eV5wZ",
        "outputId": "72f95748-0767-468e-a799-9de71da8070e"
      },
      "outputs": [
        {
          "output_type": "stream",
          "name": "stdout",
          "text": [
            "Add 1kg apple into cart.\n"
          ]
        }
      ],
      "source": [
        "# if-condition\n",
        "apple_price = 180\n",
        "buget = 200\n",
        "\n",
        "if(apple_price <= buget) :\n",
        "  print(\"Add 1kg apple into cart.\")"
      ]
    },
    {
      "cell_type": "code",
      "source": [
        "# else-condition\n",
        "\n",
        "apple_price = 180\n",
        "buget = 200\n",
        "\n",
        "if(apple_price <= buget) :\n",
        "  print(\"Add 1kg apple into cart.\")\n",
        "else :\n",
        "  print(\"Don't buy apples.\")"
      ],
      "metadata": {
        "colab": {
          "base_uri": "https://localhost:8080/"
        },
        "id": "wOmR7X3KZET5",
        "outputId": "8817b355-46b4-4987-ff5c-48903a64ec27"
      },
      "execution_count": null,
      "outputs": [
        {
          "output_type": "stream",
          "name": "stdout",
          "text": [
            "Add 1kg apple into cart.\n"
          ]
        }
      ]
    },
    {
      "cell_type": "code",
      "source": [
        "# elif- condition\n",
        "\n",
        "num = 0\n",
        "\n",
        "if (num > 0) :\n",
        "  print(\"Number is positive.\")\n",
        "elif (num == 0) :\n",
        "  print(\"Number is zero.\")\n",
        "else :\n",
        "  print(\"Number is negative.\")"
      ],
      "metadata": {
        "colab": {
          "base_uri": "https://localhost:8080/"
        },
        "id": "wNJAMCubZoPz",
        "outputId": "df8ebcaa-4dff-407a-a43c-8b4d965309c9"
      },
      "execution_count": null,
      "outputs": [
        {
          "output_type": "stream",
          "name": "stdout",
          "text": [
            "Number is zero.\n"
          ]
        }
      ]
    },
    {
      "cell_type": "code",
      "source": [
        "# Nested-condition\n",
        "\n",
        "num = 20\n",
        "\n",
        "if (num < 0) :\n",
        "  print(\"Number is positive.\")\n",
        "elif (num > 0) :\n",
        "  if (num <=10) :\n",
        "    print(\"Number is in range 0 to 10.\")\n",
        "  elif (num <=20) :\n",
        "    print(\"Number is in range 10 to 20.\")\n",
        "else :\n",
        "  print(\"Number is greater than 20.\")"
      ],
      "metadata": {
        "colab": {
          "base_uri": "https://localhost:8080/"
        },
        "id": "e8q00CF3Z5Xw",
        "outputId": "761a232e-f538-45f7-d8ca-3d9cb4d76d0a"
      },
      "execution_count": null,
      "outputs": [
        {
          "output_type": "stream",
          "name": "stdout",
          "text": [
            "Number is in range 10 to 20.\n"
          ]
        }
      ]
    },
    {
      "cell_type": "markdown",
      "source": [
        "## Loops\n",
        "\n",
        "\n",
        "\n",
        "1.   While loop - In while loop we can execute the statement as long as condition is true.\n",
        "\n",
        "2.   For loop - A for loop is used for iterating over a sequence that is either  list, a tuple,  dictionary, a set, or a string.\n",
        "\n",
        "\n",
        "### control Statement\n",
        "\n",
        "1. Pass - whenever loops, function, classes are created it is needed that we should write a block of code in it. An empty code will give error.\n",
        "\n",
        "2. Continue - We can stop the current iteration and continue with the next.\n",
        "\n",
        "3. Break - with the break statement we can stop the loop even if the while condition is true.\n"
      ],
      "metadata": {
        "id": "SsXv2MvAarw7"
      }
    },
    {
      "cell_type": "code",
      "source": [
        "# while loop\n",
        "\n",
        "i = 0\n",
        "while (i < 5) :\n",
        "  print(i)\n",
        "  i += 1"
      ],
      "metadata": {
        "colab": {
          "base_uri": "https://localhost:8080/"
        },
        "id": "6FDqW5IlAE5G",
        "outputId": "1952f1d6-248d-4e48-f02a-0bb6d31db11c"
      },
      "execution_count": null,
      "outputs": [
        {
          "output_type": "stream",
          "name": "stdout",
          "text": [
            "0\n",
            "1\n",
            "2\n",
            "3\n",
            "4\n"
          ]
        }
      ]
    },
    {
      "cell_type": "code",
      "source": [
        "# for loop\n",
        "# for loop we have range(start , stop)\n",
        "\n",
        "for i in range(5) :\n",
        "  print(i+1)"
      ],
      "metadata": {
        "colab": {
          "base_uri": "https://localhost:8080/"
        },
        "id": "9WhRAKnWBdkQ",
        "outputId": "14fbf3c3-b320-439f-895d-0e0be444d958"
      },
      "execution_count": null,
      "outputs": [
        {
          "output_type": "stream",
          "name": "stdout",
          "text": [
            "1\n",
            "2\n",
            "3\n",
            "4\n",
            "5\n"
          ]
        }
      ]
    },
    {
      "cell_type": "code",
      "source": [
        "# break statemet\n",
        "\n",
        "for i in range(5) :\n",
        "  if (i == 3) :\n",
        "    break\n",
        "  print(i+1)"
      ],
      "metadata": {
        "colab": {
          "base_uri": "https://localhost:8080/"
        },
        "id": "CNvT-CEGBrUZ",
        "outputId": "de199df3-247a-4a38-a57d-b6164d05004a"
      },
      "execution_count": null,
      "outputs": [
        {
          "output_type": "stream",
          "name": "stdout",
          "text": [
            "1\n",
            "2\n",
            "3\n"
          ]
        }
      ]
    },
    {
      "cell_type": "code",
      "source": [
        "# continue\n",
        "\n",
        "for i in range(5) :\n",
        "  if (i == 3) :\n",
        "    continue\n",
        "  print(i+1)"
      ],
      "metadata": {
        "colab": {
          "base_uri": "https://localhost:8080/"
        },
        "id": "IAN7l-T1ByGN",
        "outputId": "98b52906-463f-4fdf-c48c-04da5802a0ac"
      },
      "execution_count": null,
      "outputs": [
        {
          "output_type": "stream",
          "name": "stdout",
          "text": [
            "1\n",
            "2\n",
            "3\n",
            "5\n"
          ]
        }
      ]
    },
    {
      "cell_type": "code",
      "source": [
        "# nested loop\n",
        "\n",
        "for i in range(3) :\n",
        "  for j in range(2) :\n",
        "    print(i+1, j+1)"
      ],
      "metadata": {
        "colab": {
          "base_uri": "https://localhost:8080/"
        },
        "id": "5s6HDLyjB4D1",
        "outputId": "dffd6d63-bc76-4ace-a027-948ab7b19aeb"
      },
      "execution_count": null,
      "outputs": [
        {
          "output_type": "stream",
          "name": "stdout",
          "text": [
            "1 1\n",
            "1 2\n",
            "2 1\n",
            "2 2\n",
            "3 1\n",
            "3 2\n"
          ]
        }
      ]
    },
    {
      "cell_type": "markdown",
      "source": [
        "## Functions\n",
        "\n",
        "A Fuction is block of code in python which rumns only when it is called.\n",
        "You can pass data known as Parameter into function.\n",
        "\n",
        "There are two types of function --\n",
        "\n",
        "1.   Bulid-in -- The that are pre-coded or its menaing is already defined in python.\n",
        "Ex -- min(), max(), sum(), set(), print() and many more.\n",
        "\n",
        "2.   user define -- We can create function to perform specific task as per our needs.\n",
        "\n",
        "\n"
      ],
      "metadata": {
        "id": "JIFaK4jCU2WA"
      }
    },
    {
      "cell_type": "code",
      "source": [
        "# function\n",
        "\n",
        "def name(fname, lname) :\n",
        "  print(f\"My Name is {fname} {lname}\")\n",
        "\n",
        "name(\"Ronak\", \"Bhatt\")"
      ],
      "metadata": {
        "id": "vy4FnGAlCBgn",
        "colab": {
          "base_uri": "https://localhost:8080/"
        },
        "outputId": "d6a8592f-259b-48a0-8c10-431239d9f4d3"
      },
      "execution_count": null,
      "outputs": [
        {
          "output_type": "stream",
          "name": "stdout",
          "text": [
            "My Name is Ronak Bhatt\n"
          ]
        }
      ]
    },
    {
      "cell_type": "code",
      "source": [],
      "metadata": {
        "id": "mqIREKxmWkJW"
      },
      "execution_count": null,
      "outputs": []
    },
    {
      "cell_type": "markdown",
      "source": [
        "### function Argument\n",
        "There are types of function argument --\n",
        "\n",
        "*   Default Argument -- We can provide a default value while creating a   \n",
        "function.\n",
        "This way the function assumes a default value, if value is not provided while calling the function.\n",
        "\n",
        "*   Keywor Argument -- We can provide argument with key value this way the interpreter recgonize the argument by the parameter name.\n",
        "\n",
        "* Required Argument -- In case we don't know the argument with a key = value syntax, it is necessary to pass the argument in the correct positional order and the number of argument should match with actual function defination.\n",
        "\n"
      ],
      "metadata": {
        "id": "enk5FiXmWm79"
      }
    },
    {
      "cell_type": "code",
      "source": [
        "# defaulr argument\n",
        "\n",
        "def family_name(fname, lname = \"Bhatt\") :\n",
        "  print(f\"My Name is {fname} {lname}\")\n",
        "\n",
        "family_name(\"Ronak\")\n"
      ],
      "metadata": {
        "colab": {
          "base_uri": "https://localhost:8080/"
        },
        "id": "lKei5pO1aZx0",
        "outputId": "aa0e82d8-3d37-4e43-cb78-d4b51ab28a4a"
      },
      "execution_count": null,
      "outputs": [
        {
          "output_type": "stream",
          "name": "stdout",
          "text": [
            "My Name is Ronak Bhatt\n"
          ]
        }
      ]
    },
    {
      "cell_type": "code",
      "source": [
        "# keyword argument\n",
        "\n",
        "def family_name(fname, lname) :\n",
        "  print(f\"My Name is {fname} {lname}\")\n",
        "\n",
        "family_name(lname = \"Bhatt\", fname = \"Ronak\")"
      ],
      "metadata": {
        "colab": {
          "base_uri": "https://localhost:8080/"
        },
        "id": "DaEAM5Jxam4q",
        "outputId": "6d113a72-8ee8-49e1-bed2-ffbd3bd561d1"
      },
      "execution_count": null,
      "outputs": [
        {
          "output_type": "stream",
          "name": "stdout",
          "text": [
            "My Name is Ronak Bhatt\n"
          ]
        }
      ]
    },
    {
      "cell_type": "code",
      "source": [
        "# required argument\n",
        "\n",
        "def family_name(fname, mname, lname) :\n",
        "  print(f\"My Name is {fname} {mname} {lname}\")\n",
        "\n",
        "family_name(\"Ronak\", \"Bhupendra\", \"Bhatt\")"
      ],
      "metadata": {
        "colab": {
          "base_uri": "https://localhost:8080/"
        },
        "id": "cWfoxXlWawKy",
        "outputId": "4b15d127-5924-4fe7-9194-32b9cbd5f860"
      },
      "execution_count": null,
      "outputs": [
        {
          "output_type": "stream",
          "name": "stdout",
          "text": [
            "My Name is Ronak Bhupendra Bhatt\n"
          ]
        }
      ]
    },
    {
      "cell_type": "markdown",
      "source": [
        "##  Recursion\n",
        "\n",
        "We can let the function call itself, such a process ois know as calling a function recursively in python.\n",
        "We do ot bneed to apply loop, without using loopwe can solve problem."
      ],
      "metadata": {
        "id": "AVCMt9mTbVbw"
      }
    },
    {
      "cell_type": "code",
      "source": [
        "def factorial(num) :\n",
        "  if (num == 1) :\n",
        "    return 1\n",
        "  else :\n",
        "    return num * factorial(num-1)\n",
        "\n",
        "number = int(input(\"Enter the value : \"))\n",
        "print(f\"Factorial of {number} is {factorial(number)}.\")"
      ],
      "metadata": {
        "colab": {
          "base_uri": "https://localhost:8080/"
        },
        "id": "Rpy-ozZ4bDRN",
        "outputId": "31afd666-3786-4745-b8ae-98eb61633610"
      },
      "execution_count": null,
      "outputs": [
        {
          "output_type": "stream",
          "name": "stdout",
          "text": [
            "Enter the value : 8\n",
            "Factorial of 8 is 40320.\n"
          ]
        }
      ]
    },
    {
      "cell_type": "markdown",
      "source": [
        "## Lambda Function\n",
        "A lambda function is aanonymous function. It can take any number of arguments but can only have one expression, defined in single line of code.\n",
        "\n",
        "Types--\n",
        "\n",
        "\n",
        "\n",
        "*  Map() fucntion\n",
        "*  Reduce()\n",
        "*  Filter()\n",
        "\n",
        "\n"
      ],
      "metadata": {
        "id": "LSHpP4XPgZ3s"
      }
    },
    {
      "cell_type": "code",
      "source": [
        "# lambda function\n",
        "\n",
        "l_f = lambda x , y :x +y\n",
        "print(l_f(2,3))"
      ],
      "metadata": {
        "id": "p7r2d4TgfnQ-",
        "colab": {
          "base_uri": "https://localhost:8080/"
        },
        "outputId": "4057a5b0-e7e4-4cd8-c84f-4863708e6c5c"
      },
      "execution_count": 1,
      "outputs": [
        {
          "output_type": "stream",
          "name": "stdout",
          "text": [
            "5\n"
          ]
        }
      ]
    },
    {
      "cell_type": "code",
      "source": [
        "# map function\n",
        "\n",
        "m_f = map(lambda x : x * 2, [1,2,3,4])\n",
        "print(list(m_f))\n"
      ],
      "metadata": {
        "colab": {
          "base_uri": "https://localhost:8080/"
        },
        "id": "IE017fXXfrP8",
        "outputId": "1caba901-e570-4279-d7f5-c6d8b865f83b"
      },
      "execution_count": 3,
      "outputs": [
        {
          "output_type": "stream",
          "name": "stdout",
          "text": [
            "[2, 4, 6, 8]\n"
          ]
        }
      ]
    },
    {
      "cell_type": "code",
      "source": [
        "# reduce function\n",
        "import functools\n",
        "from functools import reduce\n",
        "r_f = reduce(lambda x, y : x + y, [1,2,3,4])\n",
        "print(r_f)"
      ],
      "metadata": {
        "colab": {
          "base_uri": "https://localhost:8080/"
        },
        "id": "9vUfXUtLfyN8",
        "outputId": "20957e0c-8ada-46a8-8946-0b3217f23482"
      },
      "execution_count": 8,
      "outputs": [
        {
          "output_type": "stream",
          "name": "stdout",
          "text": [
            "10\n"
          ]
        }
      ]
    },
    {
      "cell_type": "code",
      "source": [
        "# filter function\n",
        "\n",
        "f_f = filter(lambda x : x % 2 == 0, [1,2,3,4])\n",
        "print(list(f_f))\n",
        "\n"
      ],
      "metadata": {
        "colab": {
          "base_uri": "https://localhost:8080/"
        },
        "id": "U3AvRhApf2m9",
        "outputId": "414556e7-b053-43fe-f0f5-6026b2bb39af"
      },
      "execution_count": 9,
      "outputs": [
        {
          "output_type": "stream",
          "name": "stdout",
          "text": [
            "[2, 4]\n"
          ]
        }
      ]
    }
  ]
}